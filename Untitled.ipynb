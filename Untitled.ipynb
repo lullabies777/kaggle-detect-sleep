{
 "cells": [
  {
   "cell_type": "code",
   "execution_count": 4,
   "id": "3f16cb11-f57e-41c7-82ff-278686150524",
   "metadata": {},
   "outputs": [],
   "source": [
    "from src.models.common import get_model\n",
    "from src.datamodule.seg import TestDataset, load_chunk_features, nearest_valid_size\n",
    "import torch"
   ]
  },
  {
   "cell_type": "code",
   "execution_count": 8,
   "id": "9fc5414b-de92-4011-b3e6-eaf3379c15f5",
   "metadata": {},
   "outputs": [
    {
     "name": "stdout",
     "output_type": "stream",
     "text": [
      "num layers of lstm is -1\n",
      "lstm_dimensions of lstm is [128, 128]\n"
     ]
    },
    {
     "data": {
      "text/plain": [
       "PrecTime(\n",
       "  (feature_extractor): PrecFeatureExtractor(\n",
       "    (feature_extraction_left): Sequential(\n",
       "      (0): Sequential(\n",
       "        (0): Conv1d(28, 64, kernel_size=(5,), stride=(1,), padding=(2,))\n",
       "        (1): MaxPool1d(kernel_size=2, stride=2, padding=0, dilation=1, ceil_mode=False)\n",
       "        (2): Dropout(p=0.5, inplace=False)\n",
       "      )\n",
       "      (1): ResidualBlock(\n",
       "        (conv1): Conv1d(64, 64, kernel_size=(5,), stride=(1,), padding=(2,))\n",
       "        (bn1): BatchNorm1d(64, eps=1e-05, momentum=0.1, affine=True, track_running_stats=True)\n",
       "        (relu): ReLU(inplace=True)\n",
       "        (conv2): Conv1d(64, 64, kernel_size=(5,), stride=(1,), padding=(2,))\n",
       "        (bn2): BatchNorm1d(64, eps=1e-05, momentum=0.1, affine=True, track_running_stats=True)\n",
       "        (downsample): Sequential()\n",
       "      )\n",
       "      (2): ResidualBlock(\n",
       "        (conv1): Conv1d(64, 64, kernel_size=(5,), stride=(1,), padding=(2,))\n",
       "        (bn1): BatchNorm1d(64, eps=1e-05, momentum=0.1, affine=True, track_running_stats=True)\n",
       "        (relu): ReLU(inplace=True)\n",
       "        (conv2): Conv1d(64, 64, kernel_size=(5,), stride=(1,), padding=(2,))\n",
       "        (bn2): BatchNorm1d(64, eps=1e-05, momentum=0.1, affine=True, track_running_stats=True)\n",
       "        (downsample): Sequential()\n",
       "      )\n",
       "      (3): ResidualBlock(\n",
       "        (conv1): Conv1d(64, 64, kernel_size=(5,), stride=(1,), padding=(2,))\n",
       "        (bn1): BatchNorm1d(64, eps=1e-05, momentum=0.1, affine=True, track_running_stats=True)\n",
       "        (relu): ReLU(inplace=True)\n",
       "        (conv2): Conv1d(64, 64, kernel_size=(5,), stride=(1,), padding=(2,))\n",
       "        (bn2): BatchNorm1d(64, eps=1e-05, momentum=0.1, affine=True, track_running_stats=True)\n",
       "        (downsample): Sequential()\n",
       "      )\n",
       "    )\n",
       "    (feature_extraction_right): Sequential(\n",
       "      (0): Sequential(\n",
       "        (0): Conv1d(28, 64, kernel_size=(5,), stride=(1,), padding=(8,), dilation=(4,))\n",
       "        (1): MaxPool1d(kernel_size=2, stride=2, padding=0, dilation=1, ceil_mode=False)\n",
       "        (2): Dropout(p=0.5, inplace=False)\n",
       "      )\n",
       "      (1): ResidualBlock(\n",
       "        (conv1): Conv1d(64, 64, kernel_size=(5,), stride=(1,), padding=(8,), dilation=(4,))\n",
       "        (bn1): BatchNorm1d(64, eps=1e-05, momentum=0.1, affine=True, track_running_stats=True)\n",
       "        (relu): ReLU(inplace=True)\n",
       "        (conv2): Conv1d(64, 64, kernel_size=(5,), stride=(1,), padding=(8,), dilation=(4,))\n",
       "        (bn2): BatchNorm1d(64, eps=1e-05, momentum=0.1, affine=True, track_running_stats=True)\n",
       "        (downsample): Sequential()\n",
       "      )\n",
       "      (2): ResidualBlock(\n",
       "        (conv1): Conv1d(64, 128, kernel_size=(5,), stride=(1,), padding=(8,), dilation=(4,))\n",
       "        (bn1): BatchNorm1d(128, eps=1e-05, momentum=0.1, affine=True, track_running_stats=True)\n",
       "        (relu): ReLU(inplace=True)\n",
       "        (conv2): Conv1d(128, 128, kernel_size=(5,), stride=(1,), padding=(8,), dilation=(4,))\n",
       "        (bn2): BatchNorm1d(128, eps=1e-05, momentum=0.1, affine=True, track_running_stats=True)\n",
       "        (downsample): Sequential(\n",
       "          (0): Conv1d(64, 128, kernel_size=(1,), stride=(1,))\n",
       "          (1): BatchNorm1d(128, eps=1e-05, momentum=0.1, affine=True, track_running_stats=True)\n",
       "        )\n",
       "      )\n",
       "      (3): ResidualBlock(\n",
       "        (conv1): Conv1d(128, 128, kernel_size=(5,), stride=(1,), padding=(8,), dilation=(4,))\n",
       "        (bn1): BatchNorm1d(128, eps=1e-05, momentum=0.1, affine=True, track_running_stats=True)\n",
       "        (relu): ReLU(inplace=True)\n",
       "        (conv2): Conv1d(128, 128, kernel_size=(5,), stride=(1,), padding=(8,), dilation=(4,))\n",
       "        (bn2): BatchNorm1d(128, eps=1e-05, momentum=0.1, affine=True, track_running_stats=True)\n",
       "        (downsample): Sequential()\n",
       "      )\n",
       "    )\n",
       "  )\n",
       "  (encoder): ContextDetection(\n",
       "    (context_detection): Sequential(\n",
       "      (0): LSTM(128, 128, batch_first=True, bidirectional=True)\n",
       "      (1): LSTM(256, 128, batch_first=True, bidirectional=True)\n",
       "    )\n",
       "    (inter_upsample): Upsample(scale_factor=18.0, mode='nearest')\n",
       "    (inter_upsample_di): Upsample(scale_factor=9.0, mode='nearest')\n",
       "    (inter_fc): Linear(in_features=256, out_features=3, bias=True)\n",
       "  )\n",
       "  (decoder): PredictionRefinement(\n",
       "    (prediction_refinement): cnn_transformer(\n",
       "      (conv_layers): ModuleList(\n",
       "        (0): Conv1d(448, 448, kernel_size=(3,), stride=(1,))\n",
       "        (1): Conv1d(448, 448, kernel_size=(1,), stride=(1,))\n",
       "      )\n",
       "      (deconv_layers): ModuleList(\n",
       "        (0): ConvTranspose1d(448, 448, kernel_size=(3,), stride=(1,))\n",
       "        (1): ConvTranspose1d(448, 448, kernel_size=(1,), stride=(1,))\n",
       "      )\n",
       "      (transformer_encoder): ModuleList(\n",
       "        (0-1): 2 x TransformerEncoderLayer(\n",
       "          (self_attn): MultiheadAttention(\n",
       "            (out_proj): NonDynamicallyQuantizableLinear(in_features=448, out_features=448, bias=True)\n",
       "          )\n",
       "          (linear1): Linear(in_features=448, out_features=896, bias=True)\n",
       "          (dropout): Dropout(p=0.5, inplace=False)\n",
       "          (linear2): Linear(in_features=896, out_features=448, bias=True)\n",
       "          (norm1): LayerNorm((448,), eps=1e-05, elementwise_affine=True)\n",
       "          (norm2): LayerNorm((448,), eps=1e-05, elementwise_affine=True)\n",
       "          (dropout1): Dropout(p=0.5, inplace=False)\n",
       "          (dropout2): Dropout(p=0.5, inplace=False)\n",
       "        )\n",
       "      )\n",
       "      (layer_norm_layers): ModuleList(\n",
       "        (0-1): 2 x LayerNorm((448,), eps=1e-05, elementwise_affine=True)\n",
       "      )\n",
       "      (layer_norm_layers2): ModuleList(\n",
       "        (0-1): 2 x LayerNorm((448,), eps=1e-05, elementwise_affine=True)\n",
       "      )\n",
       "    )\n",
       "    (upsample): Upsample(scale_factor=2.0, mode='nearest')\n",
       "  )\n",
       "  (fc_after_fe): Linear(in_features=1728, out_features=128, bias=True)\n",
       "  (fc_final): Linear(in_features=448, out_features=3, bias=True)\n",
       "  (loss_fn): BCEWithLogitsLoss()\n",
       ")"
      ]
     },
     "execution_count": 8,
     "metadata": {},
     "output_type": "execute_result"
    }
   ],
   "source": [
    "config = torch.load('./output/train/prectime/single/kaggle-sleep-sweep/e6x0kvfi/best_cfg.pkl')\n",
    "num_timesteps = nearest_valid_size(int((config.duration + 2 * config.overlap_interval) * config.upsample_rate), config.downsample_rate)\n",
    "model = get_model(\n",
    "        config,\n",
    "        feature_dim=len(config.features),\n",
    "        n_classes=len(config.labels),\n",
    "        num_timesteps = num_timesteps // config.downsample_rate,\n",
    "    )\n",
    "\n",
    "model"
   ]
  },
  {
   "cell_type": "code",
   "execution_count": 9,
   "id": "933dc3b0-6aa5-40c6-b52b-138abc0248b3",
   "metadata": {},
   "outputs": [
    {
     "data": {
      "text/plain": [
       "<All keys matched successfully>"
      ]
     },
     "execution_count": 9,
     "metadata": {},
     "output_type": "execute_result"
    }
   ],
   "source": [
    "mp = './output/train/prectime/single/kaggle-sleep-sweep/e6x0kvfi/best_model_weights.pth'\n",
    "model.load_state_dict(torch.load(mp))"
   ]
  }
 ],
 "metadata": {
  "kernelspec": {
   "display_name": "Python 3 (ipykernel)",
   "language": "python",
   "name": "python3"
  },
  "language_info": {
   "codemirror_mode": {
    "name": "ipython",
    "version": 3
   },
   "file_extension": ".py",
   "mimetype": "text/x-python",
   "name": "python",
   "nbconvert_exporter": "python",
   "pygments_lexer": "ipython3",
   "version": "3.10.8"
  }
 },
 "nbformat": 4,
 "nbformat_minor": 5
}
